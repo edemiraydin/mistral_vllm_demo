{
 "cells": [
  {
   "cell_type": "code",
   "execution_count": 1,
   "id": "d682cf3e",
   "metadata": {},
   "outputs": [
    {
     "name": "stderr",
     "output_type": "stream",
     "text": [
      "/usr/local/lib/python3.10/dist-packages/snowflake/connector/options.py:103: UserWarning: You have an incompatible version of 'pyarrow' installed (10.0.1.dev0+ga6eabc2b.d20230609), please install a version that adheres to: 'pyarrow; extra == \"pandas\"'\n",
      "  warn_incompatible_dep(\n"
     ]
    }
   ],
   "source": [
    "import os\n",
    "import sys\n",
    "\n",
    "from snowflake.snowpark.types import StringType\n",
    "from snowflake.snowpark.functions import udf\n",
    "\n",
    "\n",
    "from snowflake.snowpark import Session\n",
    "import pandas as pd\n",
    "from openai import OpenAI\n",
    "\n",
    "# Modify OpenAI's API key and API base to use vLLM's API server.\n",
    "openai_api_key = \"EMPTY\"\n",
    "openai_api_base = \"http://localhost:8000/v1\"\n",
    "client = OpenAI(\n",
    "    api_key=openai_api_key,\n",
    "    base_url=openai_api_base,\n",
    ")\n",
    "\n"
   ]
  },
  {
   "cell_type": "code",
   "execution_count": 3,
   "id": "aac5746f",
   "metadata": {},
   "outputs": [],
   "source": [
    "# Unpack env vars\n",
    "API_BASE = \"http://localhost:8000/v1/completions\"\n",
    "SNOW_ROLE = os.environ[\"SNOW_ROLE\"]\n",
    "SNOW_WAREHOUSE = os.environ[\"SNOW_WAREHOUSE\"]\n",
    "SNOW_DATABASE = os.environ[\"SNOW_DATABASE\"]\n",
    "SNOW_SCHEMA = os.environ[\"SNOW_SCHEMA\"]\n",
    "SNOW_TABLE = \"MISTRAL_VLLM_DB.PUBLIC.PRODUCT_INFO\" #os.environ[\"SNOW_TABLE\"]\n",
    "SNOW_COLUMN = 'ID' # os.environ['SNOW_COLUMN']\n",
    "\n",
    "table_sample = '' #int(os.environ.get('table_sample'))\n",
    "#n = int(os.environ['responses'])\n",
    "temperature = float(os.environ['temperature'])\n",
    "max_tokens = int(os.environ['max_tokens'])\n",
    "\n",
    "# Establish snowpark session\n",
    "def get_token():\n",
    "    with open('/snowflake/session/token', 'r') as f:\n",
    "        return f.read()\n",
    "\n",
    "connection_params = {\n",
    "    'host': os.environ['SNOWFLAKE_HOST'],\n",
    "    'port': os.environ['SNOWFLAKE_PORT'],\n",
    "    'protocol': 'https',\n",
    "    'account': os.environ['SNOWFLAKE_ACCOUNT'],\n",
    "    'authenticator': 'oauth',\n",
    "    'token': get_token(),\n",
    "    'role': SNOW_ROLE,\n",
    "    'warehouse': SNOW_WAREHOUSE,\n",
    "    'database': SNOW_DATABASE,\n",
    "    'schema': SNOW_SCHEMA,\n",
    "     'session_parameters':{\n",
    "            'PYTHON_CONNECTOR_QUERY_RESULT_FORMAT': 'json'\n",
    "        }\n",
    "}\n",
    "\n",
    "\n",
    "session = Session.builder.configs(connection_params).create()\n",
    "token = get_token()\n",
    "\n"
   ]
  },
  {
   "cell_type": "code",
   "execution_count": 6,
   "id": "98a1edce",
   "metadata": {},
   "outputs": [
    {
     "name": "stdout",
     "output_type": "stream",
     "text": [
      "[['Here is a catchy product description for a EJOffice Standup Desk that highlights ergonomic and affordable. Personalize the description for remote office employees interested in made of wood:']]\n",
      "Generated text: '\\n\\n\"Ergonomic and affordable, our EJOffice Standup Desk is the perfect choice for remote office employees looking to optimize their workspace. Made of high-quality wood, this desk provides a sturdy and stylish surface for your computer, keyboard, and other essentials. With its adjustable height, you can easily switch between sitting and standing positions to reduce strain on your back and improve your posture. Plus, with its sleek design, this desk is sure to fit seamlessly into any home office. Upgrade your workspace and improve your productivity with our EJOffice Standup Desk.\"'\n"
     ]
    }
   ],
   "source": [
    "DESTINATION_TABLE = \"MISTRAL_VLLM_DB.PUBLIC.PRODUCT_DESCRIPTIONS\"\n",
    "n=1 \n",
    "\n",
    "@udf(name=\"build_prompts\", is_permanent=True, stage_location=\"@files\", replace=True, session=session)\n",
    "def build_prompt(name: str, feature_1: str, feature_2: str, target_customer1: str,feature_3: str) -> str:\n",
    "    PROMPT_TEMPLATE = '''Here is a catchy product description for a {0} that highlights {1} and {2}. Personalize the description for {3} interested in {4}:'''\n",
    "    return PROMPT_TEMPLATE.format(name, feature_1, feature_2, target_customer1,feature_3)\n",
    "\n",
    "def get_df(table_name, n = None):\n",
    "    \n",
    "    if n:\n",
    "        df = session.table(table_name).sample(n=n)\n",
    "    else:\n",
    "        df = session.table(table_name)\n",
    "    df_new= df.select(df[\"id\"],build_prompt(df[\"name\"], df[\"feature_1\"], df[\"feature_2\"], df[\"target_customer1\"], df[\"feature_3\"]).as_(\"prompt\"))\n",
    "    return df_new.select(\"id\", \"prompt\")\n",
    "   \n",
    "df = get_df(\"MISTRAL_VLLM_DB.PUBLIC.PRODUCT_INFO\",\n",
    "            table_sample).select(\"prompt\").collect()\n",
    "prompt_list=pd.DataFrame(df).values.tolist()\n",
    "print(prompt_list)\n",
    "outputs = [client.completions.create(model=\"mistralai/Mistral-7B-Instruct-v0.1\",\n",
    "                                      prompt=p, max_tokens=200, temperature=0.5) for p in prompt_list]\n",
    " \n",
    "    # Print the outputs.\n",
    "for output in outputs:\n",
    "        generated_text = output.choices[0].text\n",
    "        print(f\"Generated text: {generated_text!r}\")\n",
    "    #outputs = llm.generate(prompts, sampling_params)\n",
    "#completion = client.completions.create(model=\"mistralai/Mistral-7B-Instruct-v0.1\",\n",
    "                                     # prompt=\"San Francisco is a\")"
   ]
  },
  {
   "cell_type": "code",
   "execution_count": null,
   "id": "60ee444f",
   "metadata": {},
   "outputs": [],
   "source": []
  }
 ],
 "metadata": {
  "kernelspec": {
   "display_name": "Python 3 (ipykernel)",
   "language": "python",
   "name": "python3"
  },
  "language_info": {
   "codemirror_mode": {
    "name": "ipython",
    "version": 3
   },
   "file_extension": ".py",
   "mimetype": "text/x-python",
   "name": "python",
   "nbconvert_exporter": "python",
   "pygments_lexer": "ipython3",
   "version": "3.10.6"
  }
 },
 "nbformat": 4,
 "nbformat_minor": 5
}
