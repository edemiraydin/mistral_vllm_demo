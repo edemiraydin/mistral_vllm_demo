{
 "cells": [
  {
   "cell_type": "code",
   "execution_count": 26,
   "id": "dd327a55",
   "metadata": {},
   "outputs": [],
   "source": [
    "import os\n",
    "import sys\n",
    "\n",
    "from snowflake.snowpark.types import StringType\n",
    "from snowflake.snowpark.functions import udf\n",
    "\n",
    "\n",
    "from snowflake.snowpark import Session\n",
    "import pandas as pd\n",
    "from openai import OpenAI\n",
    "\n",
    "\n",
    "openai_api_key = \"EMPTY\"\n",
    "openai_api_base = \"http://localhost:8000/v1\"\n",
    "client = OpenAI(\n",
    "    api_key=openai_api_key,\n",
    "    base_url=openai_api_base,\n",
    ")\n",
    "\n"
   ]
  },
  {
   "cell_type": "code",
   "execution_count": 27,
   "id": "b87bd391",
   "metadata": {},
   "outputs": [],
   "source": [
    "# Unpack env vars\n",
    "API_BASE = \"http://localhost:8000/v1/completions\"\n",
    "SNOW_ROLE = os.environ[\"SNOW_ROLE\"]\n",
    "SNOW_WAREHOUSE = os.environ[\"SNOW_WAREHOUSE\"]\n",
    "SNOW_DATABASE = os.environ[\"SNOW_DATABASE\"]\n",
    "SNOW_SCHEMA = os.environ[\"SNOW_SCHEMA\"]\n",
    "SNOW_TABLE = \"MISTRAL_VLLM_DB.PUBLIC.PRODUCT_INFO\" \n",
    "\n",
    "\n",
    "# Establish snowpark session\n",
    "def get_token():\n",
    "    with open('/snowflake/session/token', 'r') as f:\n",
    "        return f.read()\n",
    "\n",
    "connection_params = {\n",
    "    'host': os.environ['SNOWFLAKE_HOST'],\n",
    "    'port': os.environ['SNOWFLAKE_PORT'],\n",
    "    'protocol': 'https',\n",
    "    'account': os.environ['SNOWFLAKE_ACCOUNT'],\n",
    "    'authenticator': 'oauth',\n",
    "    'token': get_token(),\n",
    "    'role': SNOW_ROLE,\n",
    "    'warehouse': SNOW_WAREHOUSE,\n",
    "    'database': SNOW_DATABASE,\n",
    "    'schema': SNOW_SCHEMA,\n",
    "     'session_parameters':{\n",
    "            'PYTHON_CONNECTOR_QUERY_RESULT_FORMAT': 'json'\n",
    "        }\n",
    "}\n",
    "\n",
    "\n",
    "session = Session.builder.configs(connection_params).create()\n",
    "token = get_token()\n",
    "\n"
   ]
  },
  {
   "cell_type": "code",
   "execution_count": 37,
   "id": "a2300011",
   "metadata": {},
   "outputs": [],
   "source": [
    "@udf(name=\"build_prompts\", is_permanent=True, stage_location=\"@files\", replace=True, session=session)\n",
    "def build_prompt(name: str, feature_1: str, feature_2: str, target_customer1: str,feature_3: str) -> str:\n",
    "    PROMPT_TEMPLATE = '''<s>[INST] Please generate a online store product description for a {0} that highlights {1}, {2} and {4}. Personalize the description for {3} [/INST]'''\n",
    "    return PROMPT_TEMPLATE.format(name, feature_1, feature_2, target_customer1,feature_3)\n",
    "\n",
    "def get_df(table_name, n = None):\n",
    "    df = session.table(table_name)\n",
    "    df_new= df.select(df[\"id\"],df[\"name\"], build_prompt(df[\"name\"], df[\"feature_1\"], df[\"feature_2\"], df[\"target_customer1\"], df[\"feature_3\"]).as_(\"prompt\"))\n",
    "    return df_new.select(\"id\", \"name\", \"prompt\")\n"
   ]
  },
  {
   "cell_type": "code",
   "execution_count": 42,
   "id": "f9d40629",
   "metadata": {},
   "outputs": [
    {
     "data": {
      "text/html": [
       "<div>\n",
       "<style scoped>\n",
       "    .dataframe tbody tr th:only-of-type {\n",
       "        vertical-align: middle;\n",
       "    }\n",
       "\n",
       "    .dataframe tbody tr th {\n",
       "        vertical-align: top;\n",
       "    }\n",
       "\n",
       "    .dataframe thead th {\n",
       "        text-align: right;\n",
       "    }\n",
       "</style>\n",
       "<table border=\"1\" class=\"dataframe\">\n",
       "  <thead>\n",
       "    <tr style=\"text-align: right;\">\n",
       "      <th></th>\n",
       "      <th>ID</th>\n",
       "      <th>NAME</th>\n",
       "      <th>PROMPT</th>\n",
       "    </tr>\n",
       "  </thead>\n",
       "  <tbody>\n",
       "    <tr>\n",
       "      <th>0</th>\n",
       "      <td>A1234</td>\n",
       "      <td>EJOffice Standup Desk</td>\n",
       "      <td>&lt;s&gt;[INST] Please generate a online store produ...</td>\n",
       "    </tr>\n",
       "    <tr>\n",
       "      <th>1</th>\n",
       "      <td>A3214</td>\n",
       "      <td>EJOffice Chair</td>\n",
       "      <td>&lt;s&gt;[INST] Please generate a online store produ...</td>\n",
       "    </tr>\n",
       "    <tr>\n",
       "      <th>2</th>\n",
       "      <td>A3215</td>\n",
       "      <td>EJOffice Regular Desk</td>\n",
       "      <td>&lt;s&gt;[INST] Please generate a online store produ...</td>\n",
       "    </tr>\n",
       "    <tr>\n",
       "      <th>3</th>\n",
       "      <td>A3216</td>\n",
       "      <td>EJOffice Trash Wastebasket</td>\n",
       "      <td>&lt;s&gt;[INST] Please generate a online store produ...</td>\n",
       "    </tr>\n",
       "    <tr>\n",
       "      <th>4</th>\n",
       "      <td>A3217</td>\n",
       "      <td>EJOffice Paper Shredder</td>\n",
       "      <td>&lt;s&gt;[INST] Please generate a online store produ...</td>\n",
       "    </tr>\n",
       "  </tbody>\n",
       "</table>\n",
       "</div>"
      ],
      "text/plain": [
       "      ID                        NAME  \\\n",
       "0  A1234       EJOffice Standup Desk   \n",
       "1  A3214              EJOffice Chair   \n",
       "2  A3215       EJOffice Regular Desk   \n",
       "3  A3216  EJOffice Trash Wastebasket   \n",
       "4  A3217     EJOffice Paper Shredder   \n",
       "\n",
       "                                              PROMPT  \n",
       "0  <s>[INST] Please generate a online store produ...  \n",
       "1  <s>[INST] Please generate a online store produ...  \n",
       "2  <s>[INST] Please generate a online store produ...  \n",
       "3  <s>[INST] Please generate a online store produ...  \n",
       "4  <s>[INST] Please generate a online store produ...  "
      ]
     },
     "execution_count": 42,
     "metadata": {},
     "output_type": "execute_result"
    }
   ],
   "source": [
    "df_s = get_df(\"MISTRAL_VLLM_DB.PUBLIC.PRODUCT_INFO\",\n",
    "            table_sample).collect()\n",
    "df = pd.DataFrame(df_s)\n",
    "df.head()"
   ]
  },
  {
   "cell_type": "code",
   "execution_count": 43,
   "id": "6af62ec9",
   "metadata": {},
   "outputs": [
    {
     "name": "stdout",
     "output_type": "stream",
     "text": [
      "Generated text: \" Title: EJOffice Stand-Up Desk: Your Ergonomic and Affordable Remote Office Solution\\n\\nSubtitle: Upgrade Your Home Office with Our Solid Wood, Height-Adjustable Standing Desk - Designed for Comfort and Productivity\\n\\nDescription:\\n\\nWelcome, remote office warriors! Are you feeling the strain of long hours sitting at your makeshift desk, hunched over a laptop in a cluttered corner of your home? We've got the solution for you: the EJOffice Stand-Up Desk, the perfect fusion of ergonomics, affordability, and natural beauty.\\n\\nWhy is the EJOffice Stand-Up Desk the best investment for your remote work setup? Let us count the ways:\\n\\n1. Ergonomic design: Our desktop is designed to help you maintain optimal posture while working, reducing the risk of back pain, neck pain\"\n",
      "Generated text: \" Product Name: EJ Remote Work Comfort Chair - Ergonomic, Adjustable, and Luxurious Leather Seat for Home Offices\\n\\nWelcome to the future of home officing with our EJ Remote Work Comfort Chair! Designed specifically for remote employees who spend long hours in front of their computer screens, this ergonomic, adjustable, and leather office chair is an essential investment for those seeking optimal comfort and productivity.\\n\\nErgonomic Design:\\nThe EJ Remote Work Comfort Chair prioritizes your well-being with its thoughtful ergonomic design. The chair's contoured backrest molds to your lower back, providing exceptional support while its padded, waterfall seat edge relieves pressure on your legs. The tilt function with a locking mechanism adjusts to your preferred angle, keeping your spine aligned and reducing the strain on your neck and shoulders.\\n\\nAdjustable Features:\\nCustomize\"\n",
      "Generated text: \" Title: EJOffice Metal Regular Desk: Affordable, Durable, and Stylish - Perfect for Your Home Office\\n\\nSubtitle: Upgrade Your Workspace with Our High-Quality, Budget-Friendly Regular Desk\\n\\nDescription:\\n\\nSay goodbye to cluttered kitchen tables and hello to a dedicated home office with the EJOffice Metal Regular Desk. Designed specifically for today's office professionals, this sleek and stylish desk offers the perfect blend of affordability, durability, and modern design.\\n\\nKey Features:\\n\\n1. **Affordable**: Working from home doesn't have to break the bank. Our EJOffice Metal Regular Desk is an excellent budget-friendly option for office employees looking to create a functional and organized workspace.\\n\\n2. **Durable**: Constructed from heavy-duty metal, this desk is built to last. The st\"\n",
      "Generated text: \" Introducing the EJOffice Trash Wastebasket: A Luxurious Addition to Your Executive Office\\n\\nFor the business executive who values both functionality and style, we present the EJOffice Trash Wastebasket. This exquisite wastebasket is meticulously crafted using only the finest natural buffalo leather, offering a refined and opulent touch to your professional workspace.\\n\\nCrafted from the strongest and most durable hide, our buffalo leather wastebasket is not only an elegant sight to behold but also a robust and long-lasting fixture designed to withstand the rigors of a busy office environment. Its natural texture and rich, earthy tones bring a unique organic element to your office decor while seamlessly complementing the sophistication and elegance of your executive space.\\n\\nThe EJOffice Trash Wastebasket is not just a mere waste bin; it's a statement piece\"\n",
      "Generated text: \" Title: EJOffice PS-1000: Your Space-Saving, Durable, and High-Performance Paper Shredder\\n\\nDescription:\\n\\nWelcome office workers! If you're constantly dealing with piles of paper clutter and the need for a reliable paper shredder, then look no further. Meet EJOffice's PS-1000, designed with your daily office needs in mind.\\n\\nOur PS-1000 Paper Shredder is a perfect addition to your workspace, providing an efficient solution for handling confidential documents. With its powerful 1500 watts motor, this shredder can handle up to 12 sheets of paper at once, making short work of paperwork piles. But it's not just about capacity – the PS-1000 boasts a cross-cut shredding technology, ensuring that your confidential information is securely destroyed.\\n\"\n"
     ]
    }
   ],
   "source": [
    "prompt_list=df[\"PROMPT\"].values.tolist()\n",
    "\n",
    "outputs = [client.completions.create(model=\"mistralai/Mistral-7B-Instruct-v0.2\",\n",
    "                                      prompt=p, \n",
    "                                      max_tokens=200,\n",
    "                                      n=1,\n",
    "                                      stop=None,\n",
    "                                      temperature=0.9) for p in prompt_list]\n",
    "\n",
    "descriptions = []\n",
    "# Print the outputs.\n",
    "for output in outputs:\n",
    "        generated_text = output.choices[0].text\n",
    "        descriptions.append(generated_text.strip())\n",
    "        print(f\"Generated text: {generated_text!r}\")\n",
    "df['DESCRIPTION'] = descriptions"
   ]
  },
  {
   "cell_type": "code",
   "execution_count": 44,
   "id": "91e0754a",
   "metadata": {},
   "outputs": [],
   "source": [
    "DESTINATION_TABLE = \"PRODUCT_DESCRIPTIONS\"\n",
    "DESTINATION_COLUMNS = 'ID,NAME,DESCRIPTION'\n",
    " \n",
    "_ = session.write_pandas(df[DESTINATION_COLUMNS.split(',')], \n",
    "                           DESTINATION_TABLE, \n",
    "                           auto_create_table=True, \n",
    "                           overwrite=True,\n",
    "                           on_error='continue')"
   ]
  },
  {
   "cell_type": "code",
   "execution_count": null,
   "id": "726cd76e",
   "metadata": {},
   "outputs": [],
   "source": []
  }
 ],
 "metadata": {
  "kernelspec": {
   "display_name": "Python 3 (ipykernel)",
   "language": "python",
   "name": "python3"
  },
  "language_info": {
   "codemirror_mode": {
    "name": "ipython",
    "version": 3
   },
   "file_extension": ".py",
   "mimetype": "text/x-python",
   "name": "python",
   "nbconvert_exporter": "python",
   "pygments_lexer": "ipython3",
   "version": "3.10.6"
  }
 },
 "nbformat": 4,
 "nbformat_minor": 5
}
