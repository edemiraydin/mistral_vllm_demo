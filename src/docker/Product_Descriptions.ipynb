{
 "cells": [
  {
   "cell_type": "code",
   "execution_count": 1,
   "id": "29d1f16d",
   "metadata": {},
   "outputs": [
    {
     "name": "stderr",
     "output_type": "stream",
     "text": [
      "/usr/local/lib/python3.10/dist-packages/snowflake/connector/options.py:103: UserWarning: You have an incompatible version of 'pyarrow' installed (10.0.1.dev0+ga6eabc2b.d20230609), please install a version that adheres to: 'pyarrow; extra == \"pandas\"'\n",
      "  warn_incompatible_dep(\n"
     ]
    }
   ],
   "source": [
    "import os\n",
    "import sys\n",
    "\n",
    "from snowflake.snowpark.types import StringType\n",
    "from snowflake.snowpark.functions import udf\n",
    "\n",
    "\n",
    "from snowflake.snowpark import Session\n",
    "import pandas as pd\n",
    "from openai import OpenAI\n",
    "\n",
    "# Modify OpenAI's API key and API base to use vLLM's API server.\n",
    "openai_api_key = \"EMPTY\"\n",
    "openai_api_base = \"http://localhost:8000/v1\"\n",
    "client = OpenAI(\n",
    "    api_key=openai_api_key,\n",
    "    base_url=openai_api_base,\n",
    ")\n",
    "\n"
   ]
  },
  {
   "cell_type": "code",
   "execution_count": 2,
   "id": "47706155",
   "metadata": {},
   "outputs": [],
   "source": [
    "# Unpack env vars\n",
    "API_BASE = \"http://localhost:8000/v1/completions\"\n",
    "SNOW_ROLE = os.environ[\"SNOW_ROLE\"]\n",
    "SNOW_WAREHOUSE = os.environ[\"SNOW_WAREHOUSE\"]\n",
    "SNOW_DATABASE = os.environ[\"SNOW_DATABASE\"]\n",
    "SNOW_SCHEMA = os.environ[\"SNOW_SCHEMA\"]\n",
    "SNOW_TABLE = \"MISTRAL_VLLM_DB.PUBLIC.PRODUCT_INFO\" #os.environ[\"SNOW_TABLE\"]\n",
    "SNOW_COLUMN = 'ID' # os.environ['SNOW_COLUMN']\n",
    "\n",
    "table_sample = '' #int(os.environ.get('table_sample'))\n",
    "\n",
    "temperature = float(os.environ['temperature'])\n",
    "max_tokens = int(os.environ['max_tokens'])\n",
    "\n",
    "# Establish snowpark session\n",
    "def get_token():\n",
    "    with open('/snowflake/session/token', 'r') as f:\n",
    "        return f.read()\n",
    "\n",
    "connection_params = {\n",
    "    'host': os.environ['SNOWFLAKE_HOST'],\n",
    "    'port': os.environ['SNOWFLAKE_PORT'],\n",
    "    'protocol': 'https',\n",
    "    'account': os.environ['SNOWFLAKE_ACCOUNT'],\n",
    "    'authenticator': 'oauth',\n",
    "    'token': get_token(),\n",
    "    'role': SNOW_ROLE,\n",
    "    'warehouse': SNOW_WAREHOUSE,\n",
    "    'database': SNOW_DATABASE,\n",
    "    'schema': SNOW_SCHEMA,\n",
    "     'session_parameters':{\n",
    "            'PYTHON_CONNECTOR_QUERY_RESULT_FORMAT': 'json'\n",
    "        }\n",
    "}\n",
    "\n",
    "\n",
    "session = Session.builder.configs(connection_params).create()\n",
    "token = get_token()\n",
    "\n"
   ]
  },
  {
   "cell_type": "code",
   "execution_count": 3,
   "id": "a7372e65",
   "metadata": {},
   "outputs": [],
   "source": [
    "@udf(name=\"build_prompts\", is_permanent=True, stage_location=\"@files\", replace=True, session=session)\n",
    "def build_prompt(name: str, feature_1: str, feature_2: str, target_customer1: str,feature_3: str) -> str:\n",
    "    PROMPT_TEMPLATE = '''Here is a catchy product description for a {0} that highlights {1} and {2}. Personalize the description for {3} interested in {4}:'''\n",
    "    return PROMPT_TEMPLATE.format(name, feature_1, feature_2, target_customer1,feature_3)\n",
    "\n",
    "def get_df(table_name, n = None):\n",
    "    df = session.table(table_name)\n",
    "    df_new= df.select(df[\"id\"],df[\"name\"], build_prompt(df[\"name\"], df[\"feature_1\"], df[\"feature_2\"], df[\"target_customer1\"], df[\"feature_3\"]).as_(\"prompt\"))\n",
    "    return df_new.select(\"id\", \"name\", \"prompt\")\n"
   ]
  },
  {
   "cell_type": "code",
   "execution_count": 4,
   "id": "7764fcbc",
   "metadata": {},
   "outputs": [
    {
     "data": {
      "text/html": [
       "<div>\n",
       "<style scoped>\n",
       "    .dataframe tbody tr th:only-of-type {\n",
       "        vertical-align: middle;\n",
       "    }\n",
       "\n",
       "    .dataframe tbody tr th {\n",
       "        vertical-align: top;\n",
       "    }\n",
       "\n",
       "    .dataframe thead th {\n",
       "        text-align: right;\n",
       "    }\n",
       "</style>\n",
       "<table border=\"1\" class=\"dataframe\">\n",
       "  <thead>\n",
       "    <tr style=\"text-align: right;\">\n",
       "      <th></th>\n",
       "      <th>ID</th>\n",
       "      <th>NAME</th>\n",
       "      <th>PROMPT</th>\n",
       "    </tr>\n",
       "  </thead>\n",
       "  <tbody>\n",
       "    <tr>\n",
       "      <th>0</th>\n",
       "      <td>A1234</td>\n",
       "      <td>EJOffice Standup Desk</td>\n",
       "      <td>Here is a catchy product description for a EJO...</td>\n",
       "    </tr>\n",
       "    <tr>\n",
       "      <th>1</th>\n",
       "      <td>A3214</td>\n",
       "      <td>EJOffice Chair</td>\n",
       "      <td>Here is a catchy product description for a EJO...</td>\n",
       "    </tr>\n",
       "    <tr>\n",
       "      <th>2</th>\n",
       "      <td>A3215</td>\n",
       "      <td>EJOffice Regular Desk</td>\n",
       "      <td>Here is a catchy product description for a EJO...</td>\n",
       "    </tr>\n",
       "    <tr>\n",
       "      <th>3</th>\n",
       "      <td>A3216</td>\n",
       "      <td>EJOffice Trash Wastebasket</td>\n",
       "      <td>Here is a catchy product description for a EJO...</td>\n",
       "    </tr>\n",
       "    <tr>\n",
       "      <th>4</th>\n",
       "      <td>A3217</td>\n",
       "      <td>EJOffice Paper Shredder</td>\n",
       "      <td>Here is a catchy product description for a EJO...</td>\n",
       "    </tr>\n",
       "  </tbody>\n",
       "</table>\n",
       "</div>"
      ],
      "text/plain": [
       "      ID                        NAME  \\\n",
       "0  A1234       EJOffice Standup Desk   \n",
       "1  A3214              EJOffice Chair   \n",
       "2  A3215       EJOffice Regular Desk   \n",
       "3  A3216  EJOffice Trash Wastebasket   \n",
       "4  A3217     EJOffice Paper Shredder   \n",
       "\n",
       "                                              PROMPT  \n",
       "0  Here is a catchy product description for a EJO...  \n",
       "1  Here is a catchy product description for a EJO...  \n",
       "2  Here is a catchy product description for a EJO...  \n",
       "3  Here is a catchy product description for a EJO...  \n",
       "4  Here is a catchy product description for a EJO...  "
      ]
     },
     "execution_count": 4,
     "metadata": {},
     "output_type": "execute_result"
    }
   ],
   "source": [
    "df_s = get_df(\"MISTRAL_VLLM_DB.PUBLIC.PRODUCT_INFO\",\n",
    "            table_sample).collect()\n",
    "df = pd.DataFrame(df_s)\n",
    "df.head()"
   ]
  },
  {
   "cell_type": "code",
   "execution_count": 6,
   "id": "3f36676b",
   "metadata": {},
   "outputs": [
    {
     "name": "stdout",
     "output_type": "stream",
     "text": [
      "Generated text: '\\n\\n🌱🏠 Upgrade your home office to a healthier, more productive workspace with the EJOffice Standup Desk! 🏋️📈\\n\\nOur ergonomic standup desk, crafted from sustainable, solid wood, is the perfect solution for remote workers seeking to reduce back pain, improve posture, and boost energy levels. 🌿\\n\\n💡 Save money and reduce clutter by replacing your bulky, expensive traditional desk with our affordable, adjustable standup desk. 💰\\n\\n🌱🌱 Made of eco-friendly, sustainably sourced wood, our standup desk is not only good for your health but also kind to the planet. 🌍\\n\\n🏋️🏋️ Easily switch between sitting and standing positions throughout the day with a simple twist of the knob, promoting'\n",
      "Generated text: \"\\n\\nIntroducing the EJ Leather Executive Office Chair, designed specifically for remote workers seeking optimal comfort and support while working long hours from home. This ergonomic marvel boasts a sleek, modern design that will elevate your home office setup, all while providing unparalleled adjustability.\\n\\nThe EJ Leather Executive Office Chair is upholstered in premium, supple genuine leather, ensuring a luxurious and long-lasting finish. The leather not only looks great but also breathes well, keeping you cool during warm days and warm during chilly nights. The chair's adjustable backrest, seat height, and armrests cater to various body sizes and preferences, allowing you to customize your seating experience for ultimate comfort.\\n\\nAdditionally, the chair's tilt mechanism enables you to recline at your desired angle, promoting better blood circulation and reducing pressure points. The multi-functional swivel base allows\"\n",
      "Generated text: '\\n\\nIntroducing the EJOffice Regular Desk - the perfect workstation for budget-conscious office professionals seeking a durable and reliable metal desk. Crafted with sleek, industrial-grade steel, this desk is built to withstand the demands of daily use. Its sturdy construction ensures stability, while its smooth, scratch-resistant surface is easy to clean and maintain. Plus, with plenty of space for your computer, printer, and essential office supplies, the EJOffice Regular Desk is the ideal solution for creating a productive and organized workspace. Upgrade your office setup without breaking the bank. Get yours today!'\n",
      "Generated text: \"\\n\\nIntroducing the EJOffice Trash Wastebasket, a statement piece that effortlessly blends luxury and functionality in your office space. Crafted from the finest buffalo leather, this wastebasket exudes an air of sophistication and natural elegance that will elevate your workspace to new heights.\\n\\nThe buffalo leather is not only visually stunning but also durable and long-lasting, ensuring that this wastebasket remains a cherished addition to your office for years to come. The rich, natural texture and authentic patina of the leather add a warm and inviting touch to your office decor, while the sleek and modern design keeps it looking contemporary and stylish.\\n\\nThe EJOffice Trash Wastebasket is not just a wastebasket, it's a work of art. The large capacity allows you to keep your workspace clutter-free, while the elegant design ensures that even the most m\"\n",
      "Generated text: \"\\n\\nLooking for a reliable and space-efficient paper shredder for your office? Look no further than the EJOffice Paper Shredder!\\n\\nThis durable little machine can handle up to 6 sheets of paper at a time, making it perfect for small offices or home offices. Its compact size means it won't take up too much valuable desk space, and its quiet operation won't disturb your colleagues.\\n\\nBut don't let its size fool you - the EJOffice Paper Shredder is built to last. Its robust motor can handle daily use, and its cross-cut shredding technology ensures that your documents are securely destroyed. Plus, its safety lock and reverse function help prevent jams and ensure safe operation.\\n\\nWhether you're shredding sensitive documents, confidential reports, or just getting rid of old paperwork, the EJOffice Paper Shredder is the perfect solution for any busy office\"\n"
     ]
    }
   ],
   "source": [
    "prompt_list=df[\"PROMPT\"].values.tolist()\n",
    "\n",
    "outputs = [client.completions.create(model=\"mistralai/Mistral-7B-Instruct-v0.2\",\n",
    "                                      prompt=p, max_tokens=200, temperature=0.5) for p in prompt_list]\n",
    "\n",
    "descriptions = []\n",
    "# Print the outputs.\n",
    "for output in outputs:\n",
    "        generated_text = output.choices[0].text\n",
    "        descriptions.append(generated_text.strip())\n",
    "        print(f\"Generated text: {generated_text!r}\")\n",
    "df['DESCRIPTION'] = descriptions"
   ]
  },
  {
   "cell_type": "code",
   "execution_count": 7,
   "id": "44b96ab1",
   "metadata": {},
   "outputs": [],
   "source": [
    "DESTINATION_TABLE = \"PRODUCT_DESCRIPTIONS\"\n",
    "DESTINATION_COLUMNS = 'ID,NAME,DESCRIPTION'\n",
    " \n",
    "_ = session.write_pandas(df[DESTINATION_COLUMNS.split(',')], \n",
    "                           DESTINATION_TABLE, \n",
    "                           auto_create_table=True, \n",
    "                           overwrite=True,\n",
    "                           on_error='continue')"
   ]
  },
  {
   "cell_type": "code",
   "execution_count": null,
   "id": "ad6745eb",
   "metadata": {},
   "outputs": [],
   "source": []
  }
 ],
 "metadata": {
  "kernelspec": {
   "display_name": "Python 3 (ipykernel)",
   "language": "python",
   "name": "python3"
  },
  "language_info": {
   "codemirror_mode": {
    "name": "ipython",
    "version": 3
   },
   "file_extension": ".py",
   "mimetype": "text/x-python",
   "name": "python",
   "nbconvert_exporter": "python",
   "pygments_lexer": "ipython3",
   "version": "3.10.6"
  }
 },
 "nbformat": 4,
 "nbformat_minor": 5
}
