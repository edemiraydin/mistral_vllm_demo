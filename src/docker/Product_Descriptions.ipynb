{
 "cells": [
  {
   "cell_type": "code",
   "execution_count": 26,
   "id": "76abc35b",
   "metadata": {},
   "outputs": [],
   "source": [
    "import os\n",
    "import sys\n",
    "\n",
    "from snowflake.snowpark.types import StringType\n",
    "from snowflake.snowpark.functions import udf\n",
    "\n",
    "\n",
    "from snowflake.snowpark import Session\n",
    "import pandas as pd\n",
    "from openai import OpenAI\n",
    "\n",
    "\n",
    "openai_api_key = \"EMPTY\"\n",
    "openai_api_base = \"http://localhost:8000/v1\"\n",
    "client = OpenAI(\n",
    "    api_key=openai_api_key,\n",
    "    base_url=openai_api_base,\n",
    ")\n",
    "\n"
   ]
  },
  {
   "cell_type": "code",
   "execution_count": 27,
   "id": "78934c04",
   "metadata": {},
   "outputs": [],
   "source": [
    "# Unpack env vars\n",
    "API_BASE = \"http://localhost:8000/v1/completions\"\n",
    "SNOW_ROLE = os.environ[\"SNOW_ROLE\"]\n",
    "SNOW_WAREHOUSE = os.environ[\"SNOW_WAREHOUSE\"]\n",
    "SNOW_DATABASE = os.environ[\"SNOW_DATABASE\"]\n",
    "SNOW_SCHEMA = os.environ[\"SNOW_SCHEMA\"]\n",
    "SNOW_TABLE = \"MISTRAL_VLLM_DB.PUBLIC.PRODUCT_INFO\" \n",
    "\n",
    "\n",
    "# Establish snowpark session\n",
    "def get_token():\n",
    "    with open('/snowflake/session/token', 'r') as f:\n",
    "        return f.read()\n",
    "\n",
    "connection_params = {\n",
    "    'host': os.environ['SNOWFLAKE_HOST'],\n",
    "    'port': os.environ['SNOWFLAKE_PORT'],\n",
    "    'protocol': 'https',\n",
    "    'account': os.environ['SNOWFLAKE_ACCOUNT'],\n",
    "    'authenticator': 'oauth',\n",
    "    'token': get_token(),\n",
    "    'role': SNOW_ROLE,\n",
    "    'warehouse': SNOW_WAREHOUSE,\n",
    "    'database': SNOW_DATABASE,\n",
    "    'schema': SNOW_SCHEMA,\n",
    "     'session_parameters':{\n",
    "            'PYTHON_CONNECTOR_QUERY_RESULT_FORMAT': 'json'\n",
    "        }\n",
    "}\n",
    "\n",
    "\n",
    "session = Session.builder.configs(connection_params).create()\n",
    "token = get_token()\n",
    "\n"
   ]
  },
  {
   "cell_type": "code",
   "execution_count": 47,
   "id": "e8566e7a",
   "metadata": {},
   "outputs": [],
   "source": [
    "@udf(name=\"build_prompts\", is_permanent=True, stage_location=\"@files\", replace=True, session=session)\n",
    "def build_prompt(name: str, feature_1: str, feature_2: str, target_customer1: str,feature_3: str) -> str:\n",
    "    PROMPT_TEMPLATE = '''<s>[INST] Please generate a short product description for a {0} that highlights {1}, {2} and {4} for an online store. Personalize the description for {3}. [/INST]'''\n",
    "    return PROMPT_TEMPLATE.format(name, feature_1, feature_2, target_customer1,feature_3)\n",
    "\n",
    "def get_df(table_name, n = None):\n",
    "    df = session.table(table_name)\n",
    "    df_new= df.select(df[\"id\"],df[\"name\"], build_prompt(df[\"name\"], df[\"feature_1\"], df[\"feature_2\"], df[\"target_customer1\"], df[\"feature_3\"]).as_(\"prompt\"))\n",
    "    return df_new.select(\"id\", \"name\", \"prompt\")\n"
   ]
  },
  {
   "cell_type": "code",
   "execution_count": 48,
   "id": "1e5345f5",
   "metadata": {},
   "outputs": [
    {
     "data": {
      "text/html": [
       "<div>\n",
       "<style scoped>\n",
       "    .dataframe tbody tr th:only-of-type {\n",
       "        vertical-align: middle;\n",
       "    }\n",
       "\n",
       "    .dataframe tbody tr th {\n",
       "        vertical-align: top;\n",
       "    }\n",
       "\n",
       "    .dataframe thead th {\n",
       "        text-align: right;\n",
       "    }\n",
       "</style>\n",
       "<table border=\"1\" class=\"dataframe\">\n",
       "  <thead>\n",
       "    <tr style=\"text-align: right;\">\n",
       "      <th></th>\n",
       "      <th>ID</th>\n",
       "      <th>NAME</th>\n",
       "      <th>PROMPT</th>\n",
       "    </tr>\n",
       "  </thead>\n",
       "  <tbody>\n",
       "    <tr>\n",
       "      <th>0</th>\n",
       "      <td>A1234</td>\n",
       "      <td>EJOffice Standup Desk</td>\n",
       "      <td>&lt;s&gt;[INST] Please generate a short product desc...</td>\n",
       "    </tr>\n",
       "    <tr>\n",
       "      <th>1</th>\n",
       "      <td>A3214</td>\n",
       "      <td>EJOffice Chair</td>\n",
       "      <td>&lt;s&gt;[INST] Please generate a short product desc...</td>\n",
       "    </tr>\n",
       "    <tr>\n",
       "      <th>2</th>\n",
       "      <td>A3215</td>\n",
       "      <td>EJOffice Regular Desk</td>\n",
       "      <td>&lt;s&gt;[INST] Please generate a short product desc...</td>\n",
       "    </tr>\n",
       "    <tr>\n",
       "      <th>3</th>\n",
       "      <td>A3216</td>\n",
       "      <td>EJOffice Trash Wastebasket</td>\n",
       "      <td>&lt;s&gt;[INST] Please generate a short product desc...</td>\n",
       "    </tr>\n",
       "    <tr>\n",
       "      <th>4</th>\n",
       "      <td>A3217</td>\n",
       "      <td>EJOffice Paper Shredder</td>\n",
       "      <td>&lt;s&gt;[INST] Please generate a short product desc...</td>\n",
       "    </tr>\n",
       "  </tbody>\n",
       "</table>\n",
       "</div>"
      ],
      "text/plain": [
       "      ID                        NAME  \\\n",
       "0  A1234       EJOffice Standup Desk   \n",
       "1  A3214              EJOffice Chair   \n",
       "2  A3215       EJOffice Regular Desk   \n",
       "3  A3216  EJOffice Trash Wastebasket   \n",
       "4  A3217     EJOffice Paper Shredder   \n",
       "\n",
       "                                              PROMPT  \n",
       "0  <s>[INST] Please generate a short product desc...  \n",
       "1  <s>[INST] Please generate a short product desc...  \n",
       "2  <s>[INST] Please generate a short product desc...  \n",
       "3  <s>[INST] Please generate a short product desc...  \n",
       "4  <s>[INST] Please generate a short product desc...  "
      ]
     },
     "execution_count": 48,
     "metadata": {},
     "output_type": "execute_result"
    }
   ],
   "source": [
    "df_s = get_df(\"MISTRAL_VLLM_DB.PUBLIC.PRODUCT_INFO\",\n",
    "            table_sample).collect()\n",
    "df = pd.DataFrame(df_s)\n",
    "df.head()"
   ]
  },
  {
   "cell_type": "code",
   "execution_count": 49,
   "id": "622093a5",
   "metadata": {},
   "outputs": [
    {
     "name": "stdout",
     "output_type": "stream",
     "text": [
      "Generated text: ' Introducing the EJOffice Standup Desk - the perfect solution for remote office employees seeking a more ergonomic and affordable working setup. This stylish and functional desk is not only great for your back and posture, but also adds a touch of natural elegance to your home office.\\n\\nCrafted from high-quality, sustainable wood, the EJOffice Standup Desk is not only beautiful but also durable, ensuring it will last for years to come. With a sturdy and stable design, this desk can easily support your laptop, monitor, and other office essentials.\\n\\nBut what really sets the EJOffice Standup Desk apart is its ergonomic benefits. Studies show that sitting for extended periods can lead to health issues such as back pain and decreased productivity. Our standup desk allows you to switch between sitting and standing positions throughout the day, promoting better blood flow and increasing focus and energy levels.\\n\\nWith an affordable price point, the EJOffice Standup Desk is a smart investment for any remote office employee. Say goodbye to the discomfort and health risks of prolonged sitting and upgrade to a more productive and health-conscious workspace. Order yours today and join the many happy customers who have already made the switch to a better, more ergonomic working setup.'\n",
      "Generated text: \" Introducing the EJ Office Chair, the perfect solution for remote workers seeking comfort and ergonomic support during long hours at their home desk. This elegantly designed chair is not just a stylish addition to your home office, but a wise investment in your health and productivity.\\n\\nCrafted from premium quality leather, the EJ Office Chair boasts a sleek and sophisticated look that is both timeless and modern. But it's not just about looks – the genuine leather upholstery not only feels great against your skin but also wears remarkably well over time.\\n\\nThe EJ Office Chair's primary strength lies in its ergonomic design. It's tailor-made for remote workers, understanding that long hours seated at a computer can take a toll on your spine and posture.With multiple adjustable features, this chair puts you in control of your comfort. Adjust the seat height to find your perfect position, or tilt the backrest to relieve the pressure on your lower back. The chair also features adjustable armrests for added versatility in supporting your arms and shoulders.\\n\\nDesigned with the remote worker in mind, this ergonomic, adjustable, and leather-bound chair will help you maintain the optimal posture while working from home, ensuring that your focus stays on your tasks and not on discomfort or pain. Upgrade your home office setup and elevate your work experience with the EJ Office Chair – because you deserve a comfortable and functional workspace that enables you to perform at your best.\"\n",
      "Generated text: ' Introducing the EJOffice Regular Desk, the perfect addition to any home office for budget-conscious office professionals. this sturdy and reliable desk is not only affordable but also boasts a durable metal frame that can support heavy workloads and withstand the demands of daily use. Designed with the needs of office employees in mind, the Regular Desk offers ample workspace for your computer, documents, and other necessities, and its sleek and modern design will add a touch of sophistication to your home office setup. With its strong construction and reasonable price point, the EJOffice Regular Desk is a smart investment for anyone looking for a dependable and affordable solution for their home office needs. Order yours today and elevate your work-from-home experience!'\n",
      "Generated text: ' Introducing the EJOffice Luxury Buffalo Leather Trash Wastebasket, a sophisticated addition to your executive office setup. This wastebasket is not just a functional necessity but a stylish statement piece that exudes elegance and class.\\n\\nCrafted from the finest natural buffalo leather, this trash can boasts durability and a rich, natural texture that only genuine leather can offer. Its sleek design complements any contemporary office decor, adding a touch of opulence to your workspace.\\n\\nThe EJOffice Luxury Buffalo Leather Trash Wastebasket is designed to blend seamlessly into your workplace, offering a subtle yet refined presence. Its large capacity ensures that it can handle your daily office waste with ease, while its elegant form keeps clutter at bay.\\n\\nThe luxurious buffalo leather not only looks beautiful but is also easy to maintain. A simple wipe with a damp cloth will keep it looking as good as new. This wastebasket is not just an investment in functionality but a testament to your commitment to quality and style.\\n\\nUpgrade your office with the EJOffice Luxury Buffalo Leather Trash Wastebasket and let your workspace reflect your exceptional taste and business acumen.'\n",
      "Generated text: \" Introducing the EJOffice Basic Paper Shredder, your essential office companion for secure document disposal. Designed with the busy office worker in mind, this shredder delivers on the three essentials: basic functionality, durability, and space efficiency.\\n\\nThe EJOffice Basic Paper Shredder can handle up to 6 sheets of paper at a time, with a cross-cut shredding technology that guarantees a secure and consistent shred. No more worrying about confidential information falling into the wrong hands.\\n\\nCrafted from robust materials, this shredder boasts a powerful motor that ensures reliable operation, even with heavy use. The high-quality blade provides long-lasting performance, minimizing the need for frequent replacements.\\n\\nSpace is often a valuable commodity in an office setting. The EJOffice Basic Paper Shredder's compact size allows it to easily fit on a desk or in a storage area, without taking up too much valuable real estate. Its sleek design blends seamlessly into the office décor.\\n\\nMoreover, the shredder comes with an integrated safety lock, ensuring optimal security for both the user and your confidential documents. The detachable waste bin makes disposal a breeze, allowing for quick and easy emptying.\\n\\nUpgrade your office with the EJOffice Basic Paper Shredder - the perfect combination of functionality, durability, and space efficiency for your busy working environment. Order yours today and securely dispose of sensitive documents with confidence!\"\n"
     ]
    }
   ],
   "source": [
    "prompt_list=df[\"PROMPT\"].values.tolist()\n",
    "\n",
    "outputs = [client.completions.create(model=\"mistralai/Mistral-7B-Instruct-v0.2\",\n",
    "                                      prompt=p, \n",
    "                                      max_tokens=800,\n",
    "                                      n=1,\n",
    "                                      stop=None,\n",
    "                                      temperature=0.9) for p in prompt_list]\n",
    "\n",
    "descriptions = []\n",
    "# Print the outputs.\n",
    "for output in outputs:\n",
    "        generated_text = output.choices[0].text\n",
    "        descriptions.append(generated_text.strip())\n",
    "        print(f\"Generated text: {generated_text!r}\")\n",
    "df['DESCRIPTION'] = descriptions"
   ]
  },
  {
   "cell_type": "code",
   "execution_count": 50,
   "id": "9ff4c357",
   "metadata": {},
   "outputs": [],
   "source": [
    "DESTINATION_TABLE = \"PRODUCT_DESCRIPTIONS\"\n",
    "DESTINATION_COLUMNS = 'ID,NAME,DESCRIPTION'\n",
    " \n",
    "_ = session.write_pandas(df[DESTINATION_COLUMNS.split(',')], \n",
    "                           DESTINATION_TABLE, \n",
    "                           auto_create_table=True, \n",
    "                           overwrite=True,\n",
    "                           on_error='continue')"
   ]
  },
  {
   "cell_type": "code",
   "execution_count": null,
   "id": "28ac4b45",
   "metadata": {},
   "outputs": [],
   "source": []
  }
 ],
 "metadata": {
  "kernelspec": {
   "display_name": "Python 3 (ipykernel)",
   "language": "python",
   "name": "python3"
  },
  "language_info": {
   "codemirror_mode": {
    "name": "ipython",
    "version": 3
   },
   "file_extension": ".py",
   "mimetype": "text/x-python",
   "name": "python",
   "nbconvert_exporter": "python",
   "pygments_lexer": "ipython3",
   "version": "3.10.6"
  }
 },
 "nbformat": 4,
 "nbformat_minor": 5
}
