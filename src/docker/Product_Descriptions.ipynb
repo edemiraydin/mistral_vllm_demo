{
 "cells": [
  {
   "cell_type": "code",
   "execution_count": 14,
   "id": "bacfa508",
   "metadata": {},
   "outputs": [],
   "source": [
    "import os\n",
    "import sys\n",
    "from snowflake.snowpark.types import StringType\n",
    "from snowflake.snowpark.functions import udf\n",
    "from snowflake.snowpark import Session\n",
    "import pandas as pd\n",
    "from openai import OpenAI\n",
    "\n",
    "# Modify OpenAI's API key and API base to use vLLM's API server.\n",
    "openai_api_key = \"EMPTY\"\n",
    "openai_api_base = \"http://localhost:8000/v1\"\n",
    "client = OpenAI(\n",
    "    api_key=openai_api_key,\n",
    "    base_url=openai_api_base,\n",
    ")\n"
   ]
  },
  {
   "cell_type": "code",
   "execution_count": 15,
   "id": "ed8cd207",
   "metadata": {},
   "outputs": [],
   "source": [
    "# Unpack env vars\n",
    "API_BASE = \"http://localhost:8000/v1/completions\"\n",
    "SNOW_ROLE = os.environ[\"SNOW_ROLE\"]\n",
    "SNOW_WAREHOUSE = os.environ[\"SNOW_WAREHOUSE\"]\n",
    "SNOW_DATABASE = os.environ[\"SNOW_DATABASE\"]\n",
    "SNOW_SCHEMA = os.environ[\"SNOW_SCHEMA\"]\n",
    "\n",
    "\n",
    "# Establish snowpark session\n",
    "def get_token():\n",
    "    with open('/snowflake/session/token', 'r') as f:\n",
    "        return f.read()\n",
    "\n",
    "connection_params = {\n",
    "    'host': os.environ['SNOWFLAKE_HOST'],\n",
    "    'port': os.environ['SNOWFLAKE_PORT'],\n",
    "    'protocol': 'https',\n",
    "    'account': os.environ['SNOWFLAKE_ACCOUNT'],\n",
    "    'authenticator': 'oauth',\n",
    "    'token': get_token(),\n",
    "    'role': SNOW_ROLE,\n",
    "    'warehouse': SNOW_WAREHOUSE,\n",
    "    'database': SNOW_DATABASE,\n",
    "    'schema': SNOW_SCHEMA \n",
    "}\n",
    "\n",
    "\n",
    "session = Session.builder.configs(connection_params).create()\n",
    "token = get_token()\n",
    "\n"
   ]
  },
  {
   "cell_type": "code",
   "execution_count": 16,
   "id": "89796ab7",
   "metadata": {},
   "outputs": [],
   "source": [
    "@udf(name=\"build_prompts\", is_permanent=True, stage_location=\"@files\", replace=True, session=session)\n",
    "def build_prompt(name: str, feature_1: str, feature_2: str, target_customer1: str,feature_3: str) -> str:\n",
    "    PROMPT_TEMPLATE = '''Here is a catchy product description for a {0} that highlights {1} and {2}. Personalize the description for {3} interested in {4}:'''\n",
    "    return PROMPT_TEMPLATE.format(name, feature_1, feature_2, target_customer1,feature_3)\n",
    "\n",
    "def get_df(table_name):\n",
    "    df = session.table(table_name)\n",
    "    df_new= df.select(df[\"id\"],df[\"name\"], build_prompt(df[\"name\"], df[\"feature_1\"], df[\"feature_2\"], df[\"target_customer1\"], df[\"feature_3\"]).as_(\"prompt\"))\n",
    "    return df_new.select(\"id\", \"name\", \"prompt\")\n"
   ]
  },
  {
   "cell_type": "code",
   "execution_count": 17,
   "id": "aa0143d7",
   "metadata": {},
   "outputs": [
    {
     "data": {
      "text/html": [
       "<div>\n",
       "<style scoped>\n",
       "    .dataframe tbody tr th:only-of-type {\n",
       "        vertical-align: middle;\n",
       "    }\n",
       "\n",
       "    .dataframe tbody tr th {\n",
       "        vertical-align: top;\n",
       "    }\n",
       "\n",
       "    .dataframe thead th {\n",
       "        text-align: right;\n",
       "    }\n",
       "</style>\n",
       "<table border=\"1\" class=\"dataframe\">\n",
       "  <thead>\n",
       "    <tr style=\"text-align: right;\">\n",
       "      <th></th>\n",
       "      <th>ID</th>\n",
       "      <th>NAME</th>\n",
       "      <th>PROMPT</th>\n",
       "    </tr>\n",
       "  </thead>\n",
       "  <tbody>\n",
       "    <tr>\n",
       "      <th>0</th>\n",
       "      <td>A1234</td>\n",
       "      <td>EJOffice Standup Desk</td>\n",
       "      <td>Here is a catchy product description for a EJO...</td>\n",
       "    </tr>\n",
       "    <tr>\n",
       "      <th>1</th>\n",
       "      <td>A3214</td>\n",
       "      <td>EJOffice Chair</td>\n",
       "      <td>Here is a catchy product description for a EJO...</td>\n",
       "    </tr>\n",
       "    <tr>\n",
       "      <th>2</th>\n",
       "      <td>A3215</td>\n",
       "      <td>EJOffice Regular Desk</td>\n",
       "      <td>Here is a catchy product description for a EJO...</td>\n",
       "    </tr>\n",
       "    <tr>\n",
       "      <th>3</th>\n",
       "      <td>A3216</td>\n",
       "      <td>EJOffice Trash Wastebasket</td>\n",
       "      <td>Here is a catchy product description for a EJO...</td>\n",
       "    </tr>\n",
       "    <tr>\n",
       "      <th>4</th>\n",
       "      <td>A3217</td>\n",
       "      <td>EJOffice Paper Shredder</td>\n",
       "      <td>Here is a catchy product description for a EJO...</td>\n",
       "    </tr>\n",
       "  </tbody>\n",
       "</table>\n",
       "</div>"
      ],
      "text/plain": [
       "      ID                        NAME  \\\n",
       "0  A1234       EJOffice Standup Desk   \n",
       "1  A3214              EJOffice Chair   \n",
       "2  A3215       EJOffice Regular Desk   \n",
       "3  A3216  EJOffice Trash Wastebasket   \n",
       "4  A3217     EJOffice Paper Shredder   \n",
       "\n",
       "                                              PROMPT  \n",
       "0  Here is a catchy product description for a EJO...  \n",
       "1  Here is a catchy product description for a EJO...  \n",
       "2  Here is a catchy product description for a EJO...  \n",
       "3  Here is a catchy product description for a EJO...  \n",
       "4  Here is a catchy product description for a EJO...  "
      ]
     },
     "execution_count": 17,
     "metadata": {},
     "output_type": "execute_result"
    }
   ],
   "source": [
    "df_s = get_df(\"MISTRAL_VLLM_DB.PUBLIC.PRODUCT_INFO\").to_pandas()\n",
    " \n",
    "df_s.head()"
   ]
  },
  {
   "cell_type": "code",
   "execution_count": 18,
   "id": "ef928aa4",
   "metadata": {},
   "outputs": [
    {
     "name": "stdout",
     "output_type": "stream",
     "text": [
      "Generated text: \"\\n\\nIntroducing the EJOffice Standup Desk: Your Remote Office's Ergonomic and Affordable Upgrade! 🏠💼\\n\\n🌿 Made from elegant, sustainable real wood, the EJOffice Standup Desk is more than just a functional piece of furniture for your home office. It's an investment in your health, posture, and overall well-being as a remote employee.\\n\\n💪 Adjust the height to your preference for a customizable workstation that caters to your ergonomic needs. Stand, sit, or do both – the choice is yours! Say goodbye to the discomfort and health risks associated with extended sitting.\\n\\n💰 With its affordability, there's no reason not to upgrade your workspace. The EJOffice Standup Desk delivers unparalleled value, ensuring that you can work comfortably and efficiently – all while staying within your budget.\\n\\n🤝    Join the hundreds of proud remote office workers who've made the switch to the EJOffice Standup Desk. Start transforming your work experience today! 💻💪🌿\"\n",
      "Generated text: '\\n\\n\"Introducing the EJ Leather Adjustable Office Chair, designed especially for remote workers seeking comfort and ergonomics in their home office setup. This sleek and sophisticated chair boasts genuine leather upholstery that not only looks luxurious but also contours to your body for unparalleled support.\\n\\nAdjust the seat height, backrest angle, and armrests with ease to ensure an optimal seating position for your unique needs. The waterfall seat edge reduces pressure on your legs while the adjustable lumbar support cradles your lower back, promoting proper posture and minimizing discomfort throughout the day.\\n\\nSay goodbye to the stiff, inflexible chairs of the past. Invest in our EJ Leather Adjustable Office Chair today and elevate your remote work experience with the perfect blend of style, comfort, and functionality.\"'\n",
      "Generated text: '\\n\\nIntroducing the EJOffice Metal Regular Desk: Your new best friend in the office! 🤝 Say goodbye to flimsy desks that wobble or give way under the weight of your workload. This robust metal desk is here to stay and support your busy days at the office. 💪\\n\\nNot only does it boast a sturdy metal frame, but it also comes with an affordable price tag that won\\'t break the bank! 💰 Investing in a quality desk that won\\'t let you down is an essential step towards a productive work environment. 🌱\\n\\nKey Features:\\n💥 Durable Metal Frame: The EJOffice Metal Regular Desk\\'s metal frame provides ample support, ensuring your desk stays level and strong, no matter how much work you pile on it.\\n\\n💻 Adjustable Desk Shelf: Need an extra surface for additional monitors, printers, or files? This desk includes an adjustable shelf for added flexibility and convenience.\\n\\n🔒 Locking Cabinet: A secure, locking cabinet keeps important documents and valuables safe and out of sight.\\n\\n🌲 Eco-Friendly Material: Our metal desks are sustainably sourced and made with eco-friendly materials, helping to reduce your carbon footprint.\\n\\n📏 Dimensions: 60\" L x 30\" W x 29.5\" H with a 15.75\" H adjustable shelf\\n\\nTransform your workspace into a professional, organized, and efficient environment with the EJOffice Metal Regular Desk. Order yours today and experience the difference a sturdy desk can make in your workday. 💼👉 [Buy Now]'\n",
      "Generated text: \"\\n\\nIntroducing the EJOffice Trash Wastebasket: A stylish and modern addition to any executive office. This sleek, statement piece is not just a functional trash can, but a luxurious and natural accent to your workspace.\\n\\nCrafted from authentic and premium buffalo leather, the EJOffice Trash Wastebasket exudes sophistication and authenticity. The supple, rich texture of the leather adds a touch of elegance to any office décor, while the classic design ensures it will never go out of style.\\n\\nThe wastebasket's cylindrical shape allows for ample space to dispose of trash conveniently, while the narrow base keeps it from taking up too much floor space. The trash can is also equipped with a heavy-duty foot pedal, ensuring hands-free and hygienic disposal of waste.\\n\\nThe EJOffice Trash Wastebasket is not just a necessity for any executive office, but a statement piece that speaks volumes about your refined taste and commitment to quality. Add this luxurious and natural accent to your workspace today and elevate your office game.\"\n",
      "Generated text: '\\n\\n\"Say goodbye to bulky, heavy-duty shredders taking up precious office space. Introducing the EJOffice Paper Shredder - a compact, space-saving solution designed specifically for small workspaces. This durable shredder can handle up to 12 sheets of paper at a time, as well as credit cards and CDs. Its powerful motor ensures quick and efficient shredding, while its quiet operation won\\'t disrupt your team\\'s focus. With cross-cut technology that reduces papers to confetti-like particles, your confidential documents are securely destroyed. Upgrade your office with the space-conscious and effective EJOffice Paper Shredder.\"\\n\\nHere is a version of the description for individual home office workers:\\n\\n\"Working from home requires a versatile and efficient workspace. The EJOffice Paper Shredder is the perfect solution for securing your personal documents and freeing up space. Capable of shredding up to 12 sheets of paper at a time, along with credit cards and CDs, this compact and durable shredder is ideal for individual use. Its quiet operation ensures you can shred documents discreetly, without disturbance. And, with cross-cut technology that reduces papers to confetti-like particles, you can rest assured that your sensitive information is securely destroyed. Transform your home office with the space-saving and effective EJOffice Paper Shredder.\"'\n"
     ]
    }
   ],
   "source": [
    "prompt_list=df_s[\"PROMPT\"].values.tolist()\n",
    "\n",
    "outputs = [client.completions.create(model=\"mistralai/Mistral-7B-Instruct-v0.2\",\n",
    "                                      prompt=p, \n",
    "                                      max_tokens=800,\n",
    "                                      n=1,\n",
    "                                      stop=None,\n",
    "                                      temperature=0.9) for p in prompt_list]\n",
    "descriptions = []\n",
    "# Print the outputs.\n",
    "for output in outputs:\n",
    "        generated_text = output.choices[0].text\n",
    "        descriptions.append(generated_text.strip())\n",
    "        print(f\"Generated text: {generated_text!r}\")\n"
   ]
  },
  {
   "cell_type": "code",
   "execution_count": 19,
   "id": "7caaba2e",
   "metadata": {},
   "outputs": [],
   "source": [
    "df_s['DESCRIPTION'] = descriptions\n",
    "DESTINATION_TABLE = \"PRODUCT_DESCRIPTIONS\"\n",
    "DESTINATION_COLUMNS = 'ID,NAME,DESCRIPTION'\n",
    " \n",
    "_ = session.write_pandas(df_s[DESTINATION_COLUMNS.split(',')], \n",
    "                           DESTINATION_TABLE, \n",
    "                           auto_create_table=True, \n",
    "                           overwrite=True,\n",
    "                           on_error='continue')"
   ]
  },
  {
   "cell_type": "code",
   "execution_count": null,
   "id": "59c2d428",
   "metadata": {},
   "outputs": [],
   "source": []
  }
 ],
 "metadata": {
  "kernelspec": {
   "display_name": "Python 3 (ipykernel)",
   "language": "python",
   "name": "python3"
  },
  "language_info": {
   "codemirror_mode": {
    "name": "ipython",
    "version": 3
   },
   "file_extension": ".py",
   "mimetype": "text/x-python",
   "name": "python",
   "nbconvert_exporter": "python",
   "pygments_lexer": "ipython3",
   "version": "3.10.6"
  }
 },
 "nbformat": 4,
 "nbformat_minor": 5
}
