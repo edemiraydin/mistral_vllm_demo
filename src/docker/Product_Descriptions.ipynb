{
 "cells": [
  {
   "cell_type": "code",
   "execution_count": 1,
   "id": "42e2e2da",
   "metadata": {},
   "outputs": [
    {
     "name": "stderr",
     "output_type": "stream",
     "text": [
      "/usr/local/lib/python3.10/dist-packages/snowflake/connector/options.py:103: UserWarning: You have an incompatible version of 'pyarrow' installed (10.0.1.dev0+ga6eabc2b.d20230609), please install a version that adheres to: 'pyarrow; extra == \"pandas\"'\n",
      "  warn_incompatible_dep(\n"
     ]
    }
   ],
   "source": [
    "import os\n",
    "import sys\n",
    "\n",
    "from snowflake.snowpark.types import StringType\n",
    "from snowflake.snowpark.functions import udf\n",
    "\n",
    "\n",
    "from snowflake.snowpark import Session\n",
    "import pandas as pd\n",
    "from openai import OpenAI\n",
    "\n",
    "# Modify OpenAI's API key and API base to use vLLM's API server.\n",
    "openai_api_key = \"EMPTY\"\n",
    "openai_api_base = \"http://localhost:8000/v1\"\n",
    "client = OpenAI(\n",
    "    api_key=openai_api_key,\n",
    "    base_url=openai_api_base,\n",
    ")\n",
    "\n"
   ]
  },
  {
   "cell_type": "code",
   "execution_count": 2,
   "id": "df44e92d",
   "metadata": {},
   "outputs": [],
   "source": [
    "# Unpack env vars\n",
    "API_BASE = \"http://localhost:8000/v1/completions\"\n",
    "SNOW_ROLE = os.environ[\"SNOW_ROLE\"]\n",
    "SNOW_WAREHOUSE = os.environ[\"SNOW_WAREHOUSE\"]\n",
    "SNOW_DATABASE = os.environ[\"SNOW_DATABASE\"]\n",
    "SNOW_SCHEMA = os.environ[\"SNOW_SCHEMA\"]\n",
    "SNOW_TABLE = \"MISTRAL_VLLM_DB.PUBLIC.PRODUCT_INFO\" #os.environ[\"SNOW_TABLE\"]\n",
    "SNOW_COLUMN = 'ID' # os.environ['SNOW_COLUMN']\n",
    "\n",
    "table_sample = '' #int(os.environ.get('table_sample'))\n",
    "\n",
    "temperature = float(os.environ['temperature'])\n",
    "max_tokens = int(os.environ['max_tokens'])\n",
    "\n",
    "# Establish snowpark session\n",
    "def get_token():\n",
    "    with open('/snowflake/session/token', 'r') as f:\n",
    "        return f.read()\n",
    "\n",
    "connection_params = {\n",
    "    'host': os.environ['SNOWFLAKE_HOST'],\n",
    "    'port': os.environ['SNOWFLAKE_PORT'],\n",
    "    'protocol': 'https',\n",
    "    'account': os.environ['SNOWFLAKE_ACCOUNT'],\n",
    "    'authenticator': 'oauth',\n",
    "    'token': get_token(),\n",
    "    'role': SNOW_ROLE,\n",
    "    'warehouse': SNOW_WAREHOUSE,\n",
    "    'database': SNOW_DATABASE,\n",
    "    'schema': SNOW_SCHEMA,\n",
    "     'session_parameters':{\n",
    "            'PYTHON_CONNECTOR_QUERY_RESULT_FORMAT': 'json'\n",
    "        }\n",
    "}\n",
    "\n",
    "\n",
    "session = Session.builder.configs(connection_params).create()\n",
    "token = get_token()\n",
    "\n"
   ]
  },
  {
   "cell_type": "code",
   "execution_count": 3,
   "id": "d5a2cbd3",
   "metadata": {},
   "outputs": [],
   "source": [
    "@udf(name=\"build_prompts\", is_permanent=True, stage_location=\"@files\", replace=True, session=session)\n",
    "def build_prompt(name: str, feature_1: str, feature_2: str, target_customer1: str,feature_3: str) -> str:\n",
    "    PROMPT_TEMPLATE = '''Here is a catchy product description for a {0} that highlights {1} and {2}. Personalize the description for {3} interested in {4}:'''\n",
    "    return PROMPT_TEMPLATE.format(name, feature_1, feature_2, target_customer1,feature_3)\n",
    "\n",
    "def get_df(table_name, n = None):\n",
    "    df = session.table(table_name)\n",
    "    df_new= df.select(df[\"id\"],df[\"name\"], build_prompt(df[\"name\"], df[\"feature_1\"], df[\"feature_2\"], df[\"target_customer1\"], df[\"feature_3\"]).as_(\"prompt\"))\n",
    "    return df_new.select(\"id\", \"name\", \"prompt\")\n"
   ]
  },
  {
   "cell_type": "code",
   "execution_count": 4,
   "id": "cb61dbaa",
   "metadata": {},
   "outputs": [
    {
     "data": {
      "text/html": [
       "<div>\n",
       "<style scoped>\n",
       "    .dataframe tbody tr th:only-of-type {\n",
       "        vertical-align: middle;\n",
       "    }\n",
       "\n",
       "    .dataframe tbody tr th {\n",
       "        vertical-align: top;\n",
       "    }\n",
       "\n",
       "    .dataframe thead th {\n",
       "        text-align: right;\n",
       "    }\n",
       "</style>\n",
       "<table border=\"1\" class=\"dataframe\">\n",
       "  <thead>\n",
       "    <tr style=\"text-align: right;\">\n",
       "      <th></th>\n",
       "      <th>ID</th>\n",
       "      <th>NAME</th>\n",
       "      <th>PROMPT</th>\n",
       "    </tr>\n",
       "  </thead>\n",
       "  <tbody>\n",
       "    <tr>\n",
       "      <th>0</th>\n",
       "      <td>A3215</td>\n",
       "      <td>EJOffice Regular Desk</td>\n",
       "      <td>Here is a catchy product description for a EJO...</td>\n",
       "    </tr>\n",
       "    <tr>\n",
       "      <th>1</th>\n",
       "      <td>A3216</td>\n",
       "      <td>EJOffice Trash Wastebasket</td>\n",
       "      <td>Here is a catchy product description for a EJO...</td>\n",
       "    </tr>\n",
       "    <tr>\n",
       "      <th>2</th>\n",
       "      <td>A3217</td>\n",
       "      <td>EJOffice Paper Shredder</td>\n",
       "      <td>Here is a catchy product description for a EJO...</td>\n",
       "    </tr>\n",
       "    <tr>\n",
       "      <th>3</th>\n",
       "      <td>A1234</td>\n",
       "      <td>EJOffice Standup Desk</td>\n",
       "      <td>Here is a catchy product description for a EJO...</td>\n",
       "    </tr>\n",
       "    <tr>\n",
       "      <th>4</th>\n",
       "      <td>A3214</td>\n",
       "      <td>EJOffice Chair</td>\n",
       "      <td>Here is a catchy product description for a EJO...</td>\n",
       "    </tr>\n",
       "  </tbody>\n",
       "</table>\n",
       "</div>"
      ],
      "text/plain": [
       "      ID                        NAME  \\\n",
       "0  A3215       EJOffice Regular Desk   \n",
       "1  A3216  EJOffice Trash Wastebasket   \n",
       "2  A3217     EJOffice Paper Shredder   \n",
       "3  A1234       EJOffice Standup Desk   \n",
       "4  A3214              EJOffice Chair   \n",
       "\n",
       "                                              PROMPT  \n",
       "0  Here is a catchy product description for a EJO...  \n",
       "1  Here is a catchy product description for a EJO...  \n",
       "2  Here is a catchy product description for a EJO...  \n",
       "3  Here is a catchy product description for a EJO...  \n",
       "4  Here is a catchy product description for a EJO...  "
      ]
     },
     "execution_count": 4,
     "metadata": {},
     "output_type": "execute_result"
    }
   ],
   "source": [
    "df_s = get_df(\"MISTRAL_VLLM_DB.PUBLIC.PRODUCT_INFO\",\n",
    "            table_sample).collect()\n",
    "df = pd.DataFrame(df_s)\n",
    "df.head()"
   ]
  },
  {
   "cell_type": "code",
   "execution_count": 5,
   "id": "5ff03367",
   "metadata": {},
   "outputs": [
    {
     "name": "stdout",
     "output_type": "stream",
     "text": [
      "Generated text: '\\n\\nEJOffice Regular Desk - Affordable and Durable\\n\\nAre you looking for a reliable and affordable desk for your office space? Look no further than the EJOffice Regular Desk! Made with high-quality materials, this desk is designed to last for years to come.\\n\\nThe desk is constructed from durable metal, which provides excellent strength and stability. It also features a sleek and modern design that will complement any office environment.\\n\\nWhether you need a desk for your home office or for a commercial space, the EJOffice Regular Desk is the perfect choice. It is available in a variety of sizes and configurations to fit your needs, and it is also easy to assemble.\\n\\nWith its affordable price and durable construction, the EJOffice Regular Desk is the perfect choice for anyone looking for a reliable and affordable desk. Order yours today and experience the quality and affordability of the EJOffice Regular'\n",
      "Generated text: '\\n\\n\"Introducing the EJOffice Trash Wastebasket, a masterpiece of luxury and natural beauty. Crafted from the finest buffalo leather, this wastebasket exudes elegance and sophistication. The rich, supple texture of the leather is both durable and stylish, making it the perfect addition to any executive office. The wastebasket is designed to blend seamlessly into your office\\'s decor, while providing a functional and practical solution to your waste management needs. Whether you\\'re looking to add a touch of luxury to your office or simply want a wastebasket that is both beautiful and practical, the EJOffice Trash Wastebasket is the perfect choice. Invest in quality and elegance with the EJOffice Trash Wastebasket.\"'\n",
      "Generated text: \"\\n\\nThis EJOffice Paper Shredder is the perfect solution for office workers looking for a reliable and space-efficient way to shred their paper documents. With its sleek design and compact size, it can easily fit on any desk or office space, making it an ideal addition to any office.\\n\\nBut that's not all - this shredder is also incredibly durable, with a heavy-duty motor that can handle up to 10 sheets of paper at a time. It also comes with a large paper capacity, allowing you to shred large volumes of paper quickly and efficiently.\\n\\nAnd with its advanced security features, you can rest assured that your sensitive documents are safe and secure. The shredder comes with a built-in lock, as well as a secure paper jam prevention system, ensuring that your documents are always shredded to your specifications.\\n\\nSo if you're looking for a reliable and space-efficient way to\"\n",
      "Generated text: '\\n\\n\"Elevate your remote office experience with our EJOffice Standup Desk. Made of solid wood and designed with ergonomics in mind, this desk is the perfect addition to your home office. The adjustable height allows you to stand or sit comfortably, while the sleek design adds a touch of sophistication to your workspace. Plus, with a budget-friendly price point, you can invest in a high-quality desk without breaking the bank. Upgrade your remote office today with EJOffice Standup Desk.\"'\n",
      "Generated text: '\\n\\n\"Say goodbye to backaches and neck pain with our EJOffice Chair. With its ergonomic design, this chair is perfect for remote office employees who spend long hours sitting. The adjustable height, armrests, and lumbar support make it easy to customize the chair to your individual needs. Plus, the sleek leather upholstery adds a touch of sophistication to any workspace. Upgrade your home office with the EJOffice Chair and experience the difference that ergonomics can make.\"'\n"
     ]
    }
   ],
   "source": [
    "prompt_list=df[\"PROMPT\"].values.tolist()\n",
    "\n",
    "outputs = [client.completions.create(model=\"mistralai/Mistral-7B-Instruct-v0.1\",\n",
    "                                      prompt=p, max_tokens=200, temperature=0.5) for p in prompt_list]\n",
    "\n",
    "descriptions = []\n",
    "# Print the outputs.\n",
    "for output in outputs:\n",
    "        generated_text = output.choices[0].text\n",
    "        descriptions.append(generated_text.strip())\n",
    "        print(f\"Generated text: {generated_text!r}\")\n",
    "df['DESCRIPTION'] = descriptions"
   ]
  },
  {
   "cell_type": "code",
   "execution_count": 6,
   "id": "db65158a",
   "metadata": {},
   "outputs": [],
   "source": [
    "DESTINATION_TABLE = \"PRODUCT_DESCRIPTIONS\"\n",
    "DESTINATION_COLUMNS = 'ID,NAME,DESCRIPTION'\n",
    " \n",
    "_ = session.write_pandas(df[DESTINATION_COLUMNS.split(',')], \n",
    "                           DESTINATION_TABLE, \n",
    "                           auto_create_table=True, \n",
    "                           overwrite=True,\n",
    "                           on_error='continue')"
   ]
  },
  {
   "cell_type": "code",
   "execution_count": null,
   "id": "7aa9a57b",
   "metadata": {},
   "outputs": [],
   "source": []
  }
 ],
 "metadata": {
  "kernelspec": {
   "display_name": "Python 3 (ipykernel)",
   "language": "python",
   "name": "python3"
  },
  "language_info": {
   "codemirror_mode": {
    "name": "ipython",
    "version": 3
   },
   "file_extension": ".py",
   "mimetype": "text/x-python",
   "name": "python",
   "nbconvert_exporter": "python",
   "pygments_lexer": "ipython3",
   "version": "3.10.6"
  }
 },
 "nbformat": 4,
 "nbformat_minor": 5
}
